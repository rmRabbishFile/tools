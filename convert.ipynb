{
 "cells": [
  {
   "cell_type": "code",
   "execution_count": 2,
   "metadata": {},
   "outputs": [],
   "source": [
    "import os\n",
    "os.chdir(\"/mnt/DP_disk1/xz_data/synthetic-classification/\")\n"
   ]
  },
  {
   "cell_type": "code",
   "execution_count": 3,
   "metadata": {},
   "outputs": [
    {
     "name": "stdout",
     "output_type": "stream",
     "text": [
      "synthetic-classification-10-train-16000000x16.csv\n",
      "synthetic-classification-10-train-2000000.csv\n",
      "synthetic-classification-10-train-250000x16_128.csv\n",
      "synthetic-classification-10-train-250000x16_16.csv\n",
      "synthetic-classification-10-train-250000x16_2.csv\n",
      "synthetic-classification-10-train-250000x16_32.csv\n",
      "synthetic-classification-10-train-250000x16_4.csv\n",
      "synthetic-classification-10-train-250000x16_64.csv\n"
     ]
    }
   ],
   "source": [
    "ls |grep \"csv\""
   ]
  },
  {
   "cell_type": "code",
   "execution_count": 4,
   "metadata": {},
   "outputs": [],
   "source": [
    "import pandas as pd\n",
    "import numpy as np\n"
   ]
  },
  {
   "cell_type": "code",
   "execution_count": 6,
   "metadata": {},
   "outputs": [
    {
     "data": {
      "text/plain": [
       "array([[-1.68443071,  0.62989104,  0.317406  ],\n",
       "       [-1.45529291,  1.52596048,  0.1276281 ],\n",
       "       [-0.37144706,  1.45003091,  0.11178678],\n",
       "       ...,\n",
       "       [-2.28348118, -1.49647571,  1.70925604],\n",
       "       [-1.06565346,  0.46835715, -0.26612385],\n",
       "       [ 1.22934024,  0.21450581, -1.03961182]])"
      ]
     },
     "execution_count": 6,
     "metadata": {},
     "output_type": "execute_result"
    }
   ],
   "source": [
    "data100x3 = np.load(\"synthetic-classification-2-X-train-100000x3.npy\")\n",
    "data250x16 = np.load(\"synthetic-classification-10-X-train-250000x16.npy\")\n",
    "data100x3 + 0.001"
   ]
  },
  {
   "cell_type": "code",
   "execution_count": 10,
   "metadata": {},
   "outputs": [
    {
     "data": {
      "text/plain": [
       "(200000, 1)"
      ]
     },
     "execution_count": 10,
     "metadata": {},
     "output_type": "execute_result"
    }
   ],
   "source": [
    "file = \"synthetic-classification-2-y-train-100000x3\"\n",
    "data100x3 = np.load(file + \".npy\")\n",
    "temp = pd.DataFrame(data100x3)\n",
    "temp.to_csv(file + \".csv\", header=False, index=False, float_format='%.6f')\n",
    "np.tile(temp, [2, 1]).shape"
   ]
  },
  {
   "cell_type": "code",
   "execution_count": 32,
   "metadata": {},
   "outputs": [],
   "source": [
    "for i in range(0):\n",
    "    pass"
   ]
  },
  {
   "cell_type": "code",
   "execution_count": 5,
   "metadata": {},
   "outputs": [],
   "source": [
    "def convert_to_csv(file, size, scale):\n",
    "    data100x3_X = np.load(file + \"-X-\" + size + \".npy\")\n",
    "    data100x3_y = np.load(file + \"-y-\" + size + \".npy\")\n",
    "    temp = pd.DataFrame(data100x3_X)\n",
    "    temp_y = pd.DataFrame(data100x3_y)\n",
    "    for i in range(scale - 1):\n",
    "        print(i)\n",
    "        temp = pd.concat([temp, pd.DataFrame(data100x3_X) + i * 0.0001], ignore_index=True)\n",
    "    # print(temp.head(), temp.shape)\n",
    "    # print(np.tile(temp_y, [scale, 1]).shape, temp_y.shape)\n",
    "    temp[\"y\"] = np.tile(temp_y, [scale, 1])\n",
    "    \n",
    "    temp.to_csv(file + \"-\" + size + \"_\" + str(scale) + \".csv\", header=False, index=False, float_format='%.6f')"
   ]
  },
  {
   "cell_type": "code",
   "execution_count": 6,
   "metadata": {},
   "outputs": [
    {
     "name": "stdout",
     "output_type": "stream",
     "text": [
      "0\n",
      "1\n",
      "2\n",
      "3\n",
      "4\n",
      "5\n",
      "6\n",
      "7\n",
      "8\n",
      "9\n",
      "10\n",
      "11\n",
      "12\n",
      "13\n",
      "14\n",
      "15\n",
      "16\n",
      "17\n",
      "18\n",
      "19\n",
      "20\n",
      "21\n",
      "22\n",
      "23\n",
      "24\n",
      "25\n",
      "26\n",
      "27\n",
      "28\n",
      "29\n",
      "30\n",
      "31\n",
      "32\n",
      "33\n",
      "34\n",
      "35\n",
      "36\n",
      "37\n",
      "38\n",
      "39\n",
      "40\n",
      "41\n",
      "42\n",
      "43\n",
      "44\n",
      "45\n",
      "46\n",
      "47\n",
      "48\n",
      "49\n",
      "50\n",
      "51\n",
      "52\n",
      "53\n",
      "54\n",
      "55\n",
      "56\n",
      "57\n",
      "58\n",
      "59\n",
      "60\n",
      "61\n",
      "62\n",
      "63\n",
      "64\n",
      "65\n",
      "66\n",
      "67\n",
      "68\n",
      "69\n",
      "70\n",
      "71\n",
      "72\n",
      "73\n",
      "74\n",
      "75\n",
      "76\n",
      "77\n",
      "78\n",
      "79\n",
      "80\n",
      "81\n",
      "82\n",
      "83\n",
      "84\n",
      "85\n",
      "86\n",
      "87\n",
      "88\n",
      "89\n",
      "90\n",
      "91\n",
      "92\n",
      "93\n",
      "94\n",
      "95\n",
      "96\n",
      "97\n",
      "98\n",
      "99\n",
      "100\n",
      "101\n",
      "102\n",
      "103\n",
      "104\n",
      "105\n",
      "106\n",
      "107\n",
      "108\n",
      "109\n",
      "110\n",
      "111\n",
      "112\n",
      "113\n",
      "114\n",
      "115\n",
      "116\n",
      "117\n",
      "118\n",
      "119\n",
      "120\n",
      "121\n",
      "122\n",
      "123\n",
      "124\n",
      "125\n",
      "126\n",
      "127\n",
      "128\n",
      "129\n",
      "130\n",
      "131\n",
      "132\n",
      "133\n",
      "134\n",
      "135\n",
      "136\n",
      "137\n",
      "138\n",
      "139\n",
      "140\n",
      "141\n",
      "142\n",
      "143\n",
      "144\n",
      "145\n",
      "146\n",
      "147\n",
      "148\n",
      "149\n",
      "150\n",
      "151\n",
      "152\n",
      "153\n",
      "154\n",
      "155\n",
      "156\n",
      "157\n",
      "158\n",
      "159\n",
      "160\n",
      "161\n",
      "162\n",
      "163\n",
      "164\n",
      "165\n",
      "166\n",
      "167\n",
      "168\n",
      "169\n",
      "170\n",
      "171\n",
      "172\n",
      "173\n",
      "174\n",
      "175\n",
      "176\n",
      "177\n",
      "178\n",
      "179\n",
      "180\n",
      "181\n",
      "182\n",
      "183\n",
      "184\n",
      "185\n",
      "186\n",
      "187\n",
      "188\n",
      "189\n",
      "190\n",
      "191\n",
      "192\n",
      "193\n",
      "194\n",
      "195\n",
      "196\n",
      "197\n",
      "198\n",
      "199\n",
      "200\n",
      "201\n",
      "202\n",
      "203\n",
      "204\n",
      "205\n",
      "206\n",
      "207\n",
      "208\n",
      "209\n",
      "210\n",
      "211\n",
      "212\n",
      "213\n",
      "214\n",
      "215\n",
      "216\n",
      "217\n",
      "218\n",
      "219\n",
      "220\n",
      "221\n",
      "222\n",
      "223\n",
      "224\n",
      "225\n",
      "226\n",
      "227\n",
      "228\n",
      "229\n",
      "230\n",
      "231\n",
      "232\n",
      "233\n",
      "234\n",
      "235\n",
      "236\n",
      "237\n",
      "238\n",
      "239\n",
      "240\n",
      "241\n",
      "242\n",
      "243\n",
      "244\n",
      "245\n",
      "246\n",
      "247\n",
      "248\n",
      "249\n",
      "250\n",
      "251\n",
      "252\n",
      "253\n",
      "254\n"
     ]
    }
   ],
   "source": [
    "convert_to_csv(\"synthetic-classification-10\", \"train-250000x16\", 256)"
   ]
  },
  {
   "cell_type": "code",
   "execution_count": 3,
   "metadata": {},
   "outputs": [],
   "source": [
    "def gen_scaled_dataset_tile(dataset_name_x, dataset_name_y, scale_factor):\n",
    "    scaled_dataset_name_x = f\"{dataset_name_x}_{scale_factor}_tile\"\n",
    "    scaled_dataset_name_y = f\"{dataset_name_y}_{scale_factor}_tile\"\n",
    "\n",
    "    data_x = np.load(dataset_name_x + \".npy\")\n",
    "    data_y = np.load(dataset_name_y + \".npy\")\n",
    "    data_x_scaled = np.tile(data_x, [scale_factor, 1])\n",
    "    data_y_scaled = np.tile(data_y, scale_factor)\n",
    "    \n",
    "    print(\"generating dataset {}, x:{}, y:{}\".format(scaled_dataset_name_x, scaled_dataset_name_y, \n",
    "                                                     data_x_scaled.shape, data_y_scaled.shape))\n",
    "\n",
    "    np.save(f\"bigdata/{scaled_dataset_name_x}.npy\", data_x_scaled, scale_factor)\n",
    "    np.save(f\"bigdata/{scaled_dataset_name_y}.npy\", data_y_scaled, scale_factor)"
   ]
  },
  {
   "cell_type": "code",
   "execution_count": 1,
   "metadata": {},
   "outputs": [
    {
     "ename": "NameError",
     "evalue": "name 'gen_scaled_dataset_tile' is not defined",
     "output_type": "error",
     "traceback": [
      "\u001b[0;31m---------------------------------------------------------------------------\u001b[0m",
      "\u001b[0;31mNameError\u001b[0m                                 Traceback (most recent call last)",
      "\u001b[1;32m/home/xz/oneDAL/convert.ipynb Cell 10\u001b[0m in \u001b[0;36m<cell line: 3>\u001b[0;34m()\u001b[0m\n\u001b[1;32m      <a href='vscode-notebook-cell://ssh-remote%2Bspr-0/home/xz/oneDAL/convert.ipynb#X12sdnNjb2RlLXJlbW90ZQ%3D%3D?line=0'>1</a>\u001b[0m dataset_name_x \u001b[39m=\u001b[39m \u001b[39m\"\u001b[39m\u001b[39msynthetic-classification-10-X-train-250000x16.npy\u001b[39m\u001b[39m\"\u001b[39m\u001b[39m.\u001b[39mpartition(\u001b[39m\"\u001b[39m\u001b[39m.\u001b[39m\u001b[39m\"\u001b[39m)[\u001b[39m0\u001b[39m]\n\u001b[1;32m      <a href='vscode-notebook-cell://ssh-remote%2Bspr-0/home/xz/oneDAL/convert.ipynb#X12sdnNjb2RlLXJlbW90ZQ%3D%3D?line=1'>2</a>\u001b[0m dataset_name_y \u001b[39m=\u001b[39m \u001b[39m\"\u001b[39m\u001b[39msynthetic-classification-10-y-train-250000x16.npy\u001b[39m\u001b[39m\"\u001b[39m\u001b[39m.\u001b[39mpartition(\u001b[39m\"\u001b[39m\u001b[39m.\u001b[39m\u001b[39m\"\u001b[39m)[\u001b[39m0\u001b[39m]\n\u001b[0;32m----> <a href='vscode-notebook-cell://ssh-remote%2Bspr-0/home/xz/oneDAL/convert.ipynb#X12sdnNjb2RlLXJlbW90ZQ%3D%3D?line=2'>3</a>\u001b[0m gen_scaled_dataset_tile(dataset_name_x, dataset_name_y, \u001b[39m256\u001b[39m)\n",
      "\u001b[0;31mNameError\u001b[0m: name 'gen_scaled_dataset_tile' is not defined"
     ]
    }
   ],
   "source": [
    "dataset_name_x = \"synthetic-classification-10-X-train-250000x16.npy\".partition(\".\")[0]\n",
    "dataset_name_y = \"synthetic-classification-10-y-train-250000x16.npy\".partition(\".\")[0]\n",
    "gen_scaled_dataset_tile(dataset_name_x, dataset_name_y, 64)"
   ]
  },
  {
   "cell_type": "code",
   "execution_count": 13,
   "metadata": {},
   "outputs": [
    {
     "data": {
      "text/plain": [
       "'synthetic-classification-10-X-train-250000x16'"
      ]
     },
     "execution_count": 13,
     "metadata": {},
     "output_type": "execute_result"
    }
   ],
   "source": [
    "dataset_name_x"
   ]
  },
  {
   "cell_type": "code",
   "execution_count": null,
   "metadata": {},
   "outputs": [],
   "source": []
  }
 ],
 "metadata": {
  "kernelspec": {
   "display_name": "Python 3.9.12 ('base')",
   "language": "python",
   "name": "python3"
  },
  "language_info": {
   "codemirror_mode": {
    "name": "ipython",
    "version": 3
   },
   "file_extension": ".py",
   "mimetype": "text/x-python",
   "name": "python",
   "nbconvert_exporter": "python",
   "pygments_lexer": "ipython3",
   "version": "3.9.12"
  },
  "orig_nbformat": 4,
  "vscode": {
   "interpreter": {
    "hash": "b512c57b2f995f427dfa382666b5503ee72dc4c5f075426c8b47ee1db3c527e8"
   }
  }
 },
 "nbformat": 4,
 "nbformat_minor": 2
}
